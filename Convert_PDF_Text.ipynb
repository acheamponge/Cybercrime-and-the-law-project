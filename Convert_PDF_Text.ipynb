{
 "cells": [
  {
   "cell_type": "code",
   "execution_count": 1,
   "metadata": {},
   "outputs": [],
   "source": [
    "import pytesseract\n",
    "from PIL import Image\n",
    "import sys\n",
    "from pdf2image import convert_from_path\n",
    "import os\n",
    "import io"
   ]
  },
  {
   "cell_type": "code",
   "execution_count": 12,
   "metadata": {
    "scrolled": true
   },
   "outputs": [],
   "source": [
    "pdfs = './day/others/'\n",
    "pytesseract.pytesseract.tesseract_cmd = r'C:\\Program Files\\Tesseract-OCR\\tesseract.exe'\n",
    "\n",
    "for pdf in os.listdir(pdfs):\n",
    "    pdf_path = str(pdf)\n",
    "    output_filename = pdfs+ \"results_\" + pdf_path.split('/')[-1].replace('.pdf','')[0:20] + \".txt\"\n",
    "    pages = convert_from_path(pdfs+pdf_path, poppler_path = r\"C:\\Program Files\\poppler-0.68.0_x86\\poppler-0.68.0\\bin\")\n",
    "    pg_cntr = 1\n",
    "\n",
    "    sub_dir = str(pdfs + pdf_path.split('/')[-1].replace('.pdf','')[0:20] + \"/\")\n",
    "    if not os.path.exists(sub_dir):\n",
    "        os.makedirs(sub_dir)\n",
    "\n",
    "    for page in pages:\n",
    "        # if pg_cntr <= 20:\n",
    "        filename = \"pg_\"+str(pg_cntr)+'_'+pdf_path.split('/')[-1].replace('.pdf','.jpg')\n",
    "        page.save(sub_dir+filename)\n",
    "        with io.open(output_filename, 'a+', encoding='utf8') as f:\n",
    "            #f.write(unicode(\"======================================================== PAGE \" + str(pg_cntr) + \" ========================================================\\n\"))\n",
    "            f.write(pytesseract.image_to_string(sub_dir+filename)+\"\\n\")\n",
    "            #f.write(unicode(\"======================================================== ========================= ========================================================\\n\"))\n",
    "        pg_cntr = pg_cntr + 1"
   ]
  },
  {
   "cell_type": "code",
   "execution_count": null,
   "metadata": {},
   "outputs": [],
   "source": []
  }
 ],
 "metadata": {
  "kernelspec": {
   "display_name": "Python 3",
   "language": "python",
   "name": "python3"
  },
  "language_info": {
   "codemirror_mode": {
    "name": "ipython",
    "version": 3
   },
   "file_extension": ".py",
   "mimetype": "text/x-python",
   "name": "python",
   "nbconvert_exporter": "python",
   "pygments_lexer": "ipython3",
   "version": "3.7.6"
  }
 },
 "nbformat": 4,
 "nbformat_minor": 4
}
